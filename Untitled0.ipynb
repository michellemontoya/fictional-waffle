{
  "cells": [
    {
      "cell_type": "markdown",
      "metadata": {
        "id": "view-in-github",
        "colab_type": "text"
      },
      "source": [
        "<a href=\"https://colab.research.google.com/github/michellemontoya/fictional-waffle/blob/main/Untitled0.ipynb\" target=\"_parent\"><img src=\"https://colab.research.google.com/assets/colab-badge.svg\" alt=\"Open In Colab\"/></a>"
      ]
    },
    {
      "cell_type": "markdown",
      "metadata": {
        "id": "bJabkgtBSYmG"
      },
      "source": [
        "1) algoritmo que calcule e imprima el costo de produccion de un articulo"
      ]
    },
    {
      "cell_type": "code",
      "source": [],
      "metadata": {
        "id": "9tDcXDrXvkgU"
      },
      "execution_count": null,
      "outputs": []
    },
    {
      "cell_type": "code",
      "execution_count": null,
      "metadata": {
        "colab": {
          "base_uri": "https://localhost:8080/"
        },
        "id": "Bhw9qPIdSq3U",
        "outputId": "3f262413-2a78-4051-bfa2-64a6d69be9ed"
      },
      "outputs": [
        {
          "name": "stdout",
          "output_type": "stream",
          "text": [
            "producto y unidades producidas\n",
            "Digita el articulo: 6666\n",
            "Digita la unidad: 344\n",
            "\n",
            "//////////// TOTAL//////////\n",
            "\n",
            "Total de costo de producción es de $11904\n"
          ]
        }
      ],
      "source": [
        "def producto_costo(a, b):\n",
        "\n",
        "\n",
        "  costo = (a * 3.5) + 10700  \n",
        "\n",
        "  print(f\"Total de costo de producción es de ${costo:.0f}\")\n",
        "\n",
        "print(\"producto y unidades producidas\")\n",
        "\n",
        "descripcion = input(\"Digita el articulo: \")\n",
        "\n",
        "unidad= int(input(\"Digita la unidad: \"))\n",
        "print(\"\\n//////////// TOTAL//////////\\n\")\n",
        "producto_costo(unidad,descripcion)\n"
      ]
    },
    {
      "cell_type": "markdown",
      "metadata": {
        "id": "BdDJWyU4T5ce"
      },
      "source": [
        "2)"
      ]
    },
    {
      "cell_type": "code",
      "execution_count": null,
      "metadata": {
        "colab": {
          "base_uri": "https://localhost:8080/"
        },
        "id": "gh1DNHHCUBIY",
        "outputId": "51052458-20be-46a5-fd86-a02543db5ee5"
      },
      "outputs": [
        {
          "output_type": "stream",
          "name": "stdout",
          "text": [
            "Digita la anchura del terreno: 34\n",
            "Digita la longitud en metros: 5\n",
            "Digita el costo del metro cuadrado: $345\n",
            "El costo final del terreno es de: $58650\n"
          ]
        }
      ],
      "source": [
        "def terreno(a, b, c):\n",
        "\n",
        "  x = a * b\n",
        "\n",
        "  costo_final = x * c\n",
        "  \n",
        "  print(f\"El costo final del terreno es de: ${costo_final:.0f}\")\n",
        "  \n",
        "ancho = float(input(\"Digita la anchura del terreno: \"))\n",
        "longitud = float(input(\"Digita la longitud en metros: \"))\n",
        "costo = float(input(\"Digita el costo del metro cuadrado: $\"))\n",
        "\n",
        "terreno(ancho, longitud, costo)"
      ]
    },
    {
      "cell_type": "markdown",
      "metadata": {
        "id": "eKlSnSq_Uz0c"
      },
      "source": [
        "3)"
      ]
    },
    {
      "cell_type": "code",
      "execution_count": null,
      "metadata": {
        "colab": {
          "base_uri": "https://localhost:8080/"
        },
        "id": "OnFUx2zlWE8R",
        "outputId": "2ab60a91-0a29-4602-cd44-649d055ea34c"
      },
      "outputs": [
        {
          "name": "stdout",
          "output_type": "stream",
          "text": [
            "ponga la cantidad de horas: 4\n",
            "Las horas equivalente es de: 240 minutos\n",
            "Las horas equivalente es de: 14400 segundos\n",
            "Las horas equivalente es de: 0 días\n"
          ]
        }
      ],
      "source": [
        "def convert(time):\n",
        "\n",
        "\n",
        "  minute = time * 60\n",
        "\n",
        "  second = time * 3600\n",
        "  day = time / 24\n",
        "  \n",
        "  print(\"Las horas equivalente es de:\", minute, \"minutos\")\n",
        "  print(\"Las horas equivalente es de:\", second, \"segundos\")\n",
        "  print(f\"Las horas equivalente es de: {day:.0f} días\")\n",
        "\n",
        "hours = int(input(\"ponga la cantidad de horas: \"))\n",
        "\n",
        "convert(hours)"
      ]
    },
    {
      "cell_type": "markdown",
      "metadata": {
        "id": "6yzaxbBcXENk"
      },
      "source": [
        "4)"
      ]
    },
    {
      "cell_type": "code",
      "execution_count": null,
      "metadata": {
        "id": "P5XtM6YxXHGD"
      },
      "outputs": [],
      "source": [
        "def ecuacion():\n",
        "  x= int(input (\"el valor de x es:\"))\n",
        " \n",
        "  y = (3*(x))**2 + 7*(x) - 15\n",
        " \n",
        "  print(y)\n",
        "ecuacion()\n",
        "  \n",
        "\n",
        "\n"
      ]
    },
    {
      "cell_type": "markdown",
      "metadata": {
        "id": "ScLpWpA_X_Ny"
      },
      "source": [
        "5)"
      ]
    },
    {
      "cell_type": "code",
      "execution_count": null,
      "metadata": {
        "colab": {
          "base_uri": "https://localhost:8080/"
        },
        "id": "iiMGv2UMY6nX",
        "outputId": "ef421b73-a245-4c04-bc91-f225c6ad357d"
      },
      "outputs": [
        {
          "name": "stdout",
          "output_type": "stream",
          "text": [
            "Digita un número: 5\n",
            "\n",
            "\n",
            "El equivalente en yardas es de: 1.67\n",
            "El equivalente en pulgadas es de: 60.00\n",
            "El equivalente a centimetros es de: 152.40\n",
            "El equivalente en metros es de: 1.52\n"
          ]
        }
      ],
      "source": [
        "def pie(n):\n",
        "\n",
        "  yardas = n / 3\n",
        "\n",
        "  pulgadas = n * 12\n",
        "\n",
        "  centimetros = pulgadas * 2.54\n",
        "\n",
        "  metro = centimetros /100 \n",
        "\n",
        "  print(f\"El equivalente en yardas es de: {yardas:.2f}\")\n",
        "  print(f\"El equivalente en pulgadas es de: {pulgadas:.2f}\")\n",
        "  print(f\"El equivalente a centimetros es de: {centimetros:.2f}\")\n",
        "  print(f\"El equivalente en metros es de: {metro:.2f}\")\n",
        "\n",
        "pies= float(input(\"Digita un número: \"))\n",
        "\n",
        "print(\"\\n\")\n",
        "\n",
        "pie(pies)"
      ]
    },
    {
      "cell_type": "code",
      "execution_count": null,
      "metadata": {
        "id": "sktVXTE-_7WC"
      },
      "outputs": [],
      "source": [
        "def conv():\n",
        "\n",
        "  pie = 12 pulgadas\n",
        "  yarda = 3 pies\n",
        "  1 pulgada = 2.54cm\n",
        "  1 metro = 100cm\n",
        "  \n",
        "\n"
      ]
    },
    {
      "cell_type": "markdown",
      "metadata": {
        "id": "5Ez0eS1YZKYd"
      },
      "source": [
        "6)"
      ]
    },
    {
      "cell_type": "code",
      "execution_count": null,
      "metadata": {
        "colab": {
          "background_save": true,
          "base_uri": "https://localhost:8080/",
          "height": 413
        },
        "id": "fCooewhxZMC8",
        "outputId": "ade1d297-0309-4920-af77-c03d2e255f39"
      },
      "outputs": [
        {
          "ename": "SyntaxError",
          "evalue": "ignored",
          "output_type": "error",
          "traceback": [
            "\u001b[0;36m  File \u001b[0;32m\"<ipython-input-35-974e47038d09>\"\u001b[0;36m, line \u001b[0;32m5\u001b[0m\n\u001b[0;31m    precio_de_venta=(((cost * utilidad) + cost) * tax) + cost)\u001b[0m\n\u001b[0m                                                             ^\u001b[0m\n\u001b[0;31mSyntaxError\u001b[0m\u001b[0;31m:\u001b[0m invalid syntax\n"
          ]
        }
      ],
      "source": [
        "def util(cost, artic):\n",
        "\n",
        "  utilidad = 1.50\n",
        "  tax = 0.15\n",
        "  precio_de_venta=(((cost * utilidad) + cost) * tax) + cost)\n",
        "\n",
        "  print(\"Información\")\n",
        "  \n",
        "\n",
        "\n",
        "  print(\"El articulo\", artic, f\"con la utilidad del 150% y con un impuesto del 15% y su precio de venta es de: ${precio_de_venta:.0f} mil pesos\")\n",
        " \n",
        "article = input(\"Digita el nombre del articulo: \")\n",
        "\n",
        "cost = float(input(\"Digita el costo del producto: \"))\n",
        "\n",
        "sale(cost, article)"
      ]
    },
    {
      "cell_type": "code",
      "execution_count": null,
      "metadata": {
        "id": "9OLPowqgHnRo"
      },
      "outputs": [],
      "source": []
    },
    {
      "cell_type": "markdown",
      "metadata": {
        "id": "LZvHqMPpZx1C"
      },
      "source": [
        "7)"
      ]
    },
    {
      "cell_type": "code",
      "execution_count": null,
      "metadata": {
        "colab": {
          "base_uri": "https://localhost:8080/"
        },
        "id": "Hidz4F4xZzSf",
        "outputId": "f8dcfbd4-8d9b-4415-d4e6-1862d9448be5"
      },
      "outputs": [
        {
          "name": "stdout",
          "output_type": "stream",
          "text": [
            "Digita el radio del circulo: 5\n",
            "\n",
            "//////////// TOTAL DEL AREA //////////\n",
            "\n",
            "El area del circulo es de: 78.54\n"
          ]
        }
      ],
      "source": [
        "def area_circulo(a):\n",
        "\n",
        "  pi = 3.1416\n",
        "\n",
        "  area = pi * (a * a)\n",
        "\n",
        "  print(f\"El area del circulo es de: {area:.2f}\")\n",
        "\n",
        "\n",
        "radio = float(input(\"Digita el radio del circulo: \"))\n",
        "print(\"\\n//////////// TOTAL DEL AREA //////////\\n\")\n",
        "area_circulo (radio)\n"
      ]
    }
  ],
  "metadata": {
    "colab": {
      "provenance": [],
      "authorship_tag": "ABX9TyOcFjN0IgxVFUkGsiyKo2Nz",
      "include_colab_link": true
    },
    "kernelspec": {
      "display_name": "Python 3",
      "name": "python3"
    },
    "language_info": {
      "name": "python"
    }
  },
  "nbformat": 4,
  "nbformat_minor": 0
}